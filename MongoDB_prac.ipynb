{
 "cells": [
  {
   "cell_type": "markdown",
   "metadata": {},
   "source": [
    "## 19.3.2 Open MongoDB compass to visually see what each python commands does\n",
    "\n",
    "You'll see below screen -\n",
    "\n",
    ">![first screen](mongo_img/compass/c1.JPG)"
   ]
  },
  {
   "cell_type": "markdown",
   "metadata": {},
   "source": [
    "### STEP 1: Create a DB"
   ]
  },
  {
   "cell_type": "code",
   "execution_count": 2,
   "metadata": {},
   "outputs": [
    {
     "name": "stdout",
     "output_type": "stream",
     "text": [
      "Requirement already satisfied: pymongo in c:\\users\\hp\\anaconda3\\lib\\site-packages (4.3.3)\n",
      "Requirement already satisfied: dnspython<3.0.0,>=1.16.0 in c:\\users\\hp\\anaconda3\\lib\\site-packages (from pymongo) (2.3.0)\n"
     ]
    }
   ],
   "source": [
    "!python -m pip install pymongo"
   ]
  },
  {
   "cell_type": "code",
   "execution_count": 3,
   "metadata": {},
   "outputs": [],
   "source": [
    "import pymongo"
   ]
  },
  {
   "cell_type": "code",
   "execution_count": 18,
   "metadata": {},
   "outputs": [],
   "source": [
    "DEFAULT_CONNECTION_URL = \"mongodb://localhost:27017/\"\n",
    "DB_NAME = \"jyotika_1\"\n",
    "\n",
    "# Establish a connection with mongoDB\n",
    "client = pymongo.MongoClient(DEFAULT_CONNECTION_URL)\n",
    "\n",
    "# Create a DB\n",
    "dataBase = client[DB_NAME]"
   ]
  },
  {
   "cell_type": "markdown",
   "metadata": {},
   "source": [
    "---\n",
    "\n",
    "### Paste the default URL in highlighted area of the Compass tool as shown below and click on connect\n",
    "default URL for local system:- \n",
    "```\n",
    "mongodb://localhost:27017/\n",
    "```\n",
    "\n",
    "> ![new connection](mongo_img/compass/c2.JPG)\n",
    "\n",
    "after you press connect you'll see the following screen which contains already existing databases\n",
    "\n",
    "> ![new connection](mongo_img/compass/c3.JPG)\n",
    "\n",
    "\n",
    "**NOTE** you'll not see your database untill or unless you have created first document inside it. So at present we don't have any document in our DB its name is not visible here \n",
    "\n",
    "You can also create a database by clicking on CREATE DATABSE button. You'll see a below screen (But we'll see eveyrthing using python)\n",
    "\n",
    "> ![new connection](mongo_img/compass/c4.JPG)"
   ]
  },
  {
   "cell_type": "code",
   "execution_count": 19,
   "metadata": {},
   "outputs": [
    {
     "data": {
      "text/plain": [
       "['admin', 'config', 'jyotika', 'local']"
      ]
     },
     "execution_count": 19,
     "metadata": {},
     "output_type": "execute_result"
    }
   ],
   "source": [
    "# lets see what the existing list of DBs -\n",
    "\n",
    "client.list_database_names()"
   ]
  },
  {
   "cell_type": "code",
   "execution_count": 20,
   "metadata": {},
   "outputs": [
    {
     "name": "stdout",
     "output_type": "stream",
     "text": [
      "DB: 'jyotika_1' not yet present OR no collection is present in the DB\n"
     ]
    }
   ],
   "source": [
    "# let's verify whether we have our database in the list or not \n",
    "# we'll use the following function:-\n",
    "\n",
    "def checkExistence_DB(DB_NAME, client):\n",
    "    \"\"\"It verifies the existence of DB\"\"\"\n",
    "    DBlist = client.list_database_names()\n",
    "    if DB_NAME in DBlist:\n",
    "        print(f\"DB: '{DB_NAME}' exists\")\n",
    "        return True\n",
    "    print(f\"DB: '{DB_NAME}' not yet present OR no collection is present in the DB\")\n",
    "    return False\n",
    "\n",
    "\n",
    "_ = checkExistence_DB(DB_NAME=DB_NAME, client=client)"
   ]
  },
  {
   "cell_type": "markdown",
   "metadata": {},
   "source": [
    "### STEP 2: Create a collection"
   ]
  },
  {
   "cell_type": "code",
   "execution_count": 24,
   "metadata": {},
   "outputs": [],
   "source": [
    "COLLECTION_NAME = \"Jyotika_details_update\"\n",
    "collection = dataBase[COLLECTION_NAME]"
   ]
  },
  {
   "cell_type": "code",
   "execution_count": 25,
   "metadata": {},
   "outputs": [
    {
     "name": "stdout",
     "output_type": "stream",
     "text": [
      "Collection:'Jyotika_details_update' in Database:'jyotika_1' does not exists OR \n",
      "    no documents are present in the collection\n"
     ]
    }
   ],
   "source": [
    "# let's verify whether we have our database in the list or not \n",
    "# we'll use the following function:-\n",
    "\n",
    "def checkExistence_COL(COLLECTION_NAME, DB_NAME, db):\n",
    "    \"\"\"It verifies the existence of collection name in a database\"\"\"\n",
    "    collection_list = db.list_collection_names()\n",
    "    \n",
    "    if COLLECTION_NAME in collection_list:\n",
    "        print(f\"Collection:'{COLLECTION_NAME}' in Database:'{DB_NAME}' exists\")\n",
    "        return True\n",
    "    \n",
    "    print(f\"Collection:'{COLLECTION_NAME}' in Database:'{DB_NAME}' does not exists OR \\n\\\n",
    "    no documents are present in the collection\")\n",
    "    return False\n",
    "\n",
    "\n",
    "_ = checkExistence_COL(COLLECTION_NAME=COLLECTION_NAME, DB_NAME=DB_NAME, db=dataBase)"
   ]
  },
  {
   "cell_type": "markdown",
   "metadata": {},
   "source": [
    "### STEP 3: Insert a record in the collection"
   ]
  },
  {
   "cell_type": "code",
   "execution_count": 26,
   "metadata": {},
   "outputs": [
    {
     "data": {
      "text/plain": [
       "<pymongo.results.InsertOneResult at 0x1f5581843c8>"
      ]
     },
     "execution_count": 26,
     "metadata": {},
     "output_type": "execute_result"
    }
   ],
   "source": [
    "record = {'collegeName': 'Pondicherry University',\n",
    "         'course': 'M.Tech CB',\n",
    "         'session': '2021-2023',\n",
    "         'Registration_no':'xyz',}\n",
    "\n",
    "collection.insert_one(record)"
   ]
  },
  {
   "cell_type": "code",
   "execution_count": 27,
   "metadata": {},
   "outputs": [
    {
     "name": "stdout",
     "output_type": "stream",
     "text": [
      "Collection:'Jyotika_details_update' in Database:'jyotika_1' exists\n"
     ]
    }
   ],
   "source": [
    "_ = checkExistence_COL(COLLECTION_NAME=COLLECTION_NAME, DB_NAME=DB_NAME, db=dataBase)"
   ]
  },
  {
   "cell_type": "markdown",
   "metadata": {},
   "source": [
    "Now you can verify in Compass that iNeuron DB exists: -\n",
    "\n",
    "> ![verify Db](mongo_img/compass/c5.JPG)\n",
    "> **NOTE**: You may need to click refresh button if your DB is not visible here.\n",
    "\n",
    "You'll find collection name here- \n",
    "> ![verify Collection](mongo_img/compass/c6.JPG)\n",
    "\n",
    "Verify your inserted record with a unique id which is given by mongoDB by default -\n",
    "> ![check inserted document](mongo_img/compass/c7.JPG)\n",
    "\n",
    "Let's reverify whether our database and collection exists or not by using the function that we have defined before."
   ]
  },
  {
   "cell_type": "code",
   "execution_count": 29,
   "metadata": {},
   "outputs": [
    {
     "name": "stdout",
     "output_type": "stream",
     "text": [
      "DB: 'jyotika_1' exists\n"
     ]
    }
   ],
   "source": [
    "# Verify DATABASE\n",
    "_ = checkExistence_DB(DB_NAME=DB_NAME, client=client)"
   ]
  },
  {
   "cell_type": "code",
   "execution_count": 30,
   "metadata": {},
   "outputs": [
    {
     "name": "stdout",
     "output_type": "stream",
     "text": [
      "Collection:'Jyotika_details_update' in Database:'jyotika_1' exists\n"
     ]
    }
   ],
   "source": [
    "# Verify COLLECTION\n",
    "_ = checkExistence_COL(COLLECTION_NAME=COLLECTION_NAME, DB_NAME=DB_NAME, db=dataBase)"
   ]
  },
  {
   "cell_type": "markdown",
   "metadata": {},
   "source": [
    "### STEP 4: Insert multiple records\n"
   ]
  },
  {
   "cell_type": "code",
   "execution_count": 39,
   "metadata": {},
   "outputs": [],
   "source": [
    "\n",
    "list_of_records = [\n",
    "    {'collegeName': 'Bundelkhand University',\n",
    "     'course': 'B.Tech Biotechnology',\n",
    "     'year': '2017-2021'},\n",
    "    \n",
    "    {'collegeName': 'Kendriya Vidyalaya',\n",
    "     'course': 'higher and senior secondary',\n",
    "    'year':'2013 and 2015'},\n",
    "    \n",
    "    {'companyName': 'iNeuron',\n",
    "     'product': 'Master Program',\n",
    "     'course': 'Data Science Masters Program'}\n",
    "]\n",
    "\n",
    "rec = collection.insert_many(list_of_records)"
   ]
  },
  {
   "cell_type": "code",
   "execution_count": 40,
   "metadata": {},
   "outputs": [
    {
     "name": "stdout",
     "output_type": "stream",
     "text": [
      "0. 63ddf44c2a5d53ee203b71b9\n",
      "1. 63ddf44c2a5d53ee203b71ba\n",
      "2. 63ddf44c2a5d53ee203b71bb\n"
     ]
    }
   ],
   "source": [
    "# lets print the unique ID that of the record that we have inserted -\n",
    "inserted_IDs = rec.inserted_ids\n",
    "\n",
    "for idx, unique_ids in enumerate(inserted_IDs):\n",
    "    print(f\"{idx}. {unique_ids}\")"
   ]
  },
  {
   "cell_type": "markdown",
   "metadata": {},
   "source": [
    "We can verify the inserted records by refreshing our compass document-\n",
    "\n",
    "> ![inserted list of records](mongo_img/compass/c8.JPG)"
   ]
  },
  {
   "cell_type": "markdown",
   "metadata": {},
   "source": [
    "You can override the default unique Id by giving a user defined as shown below -\n"
   ]
  },
  {
   "cell_type": "code",
   "execution_count": 53,
   "metadata": {},
   "outputs": [],
   "source": [
    "COLLECTION_NAME = \"PU_Faculties\"\n",
    "faculties = dataBase[COLLECTION_NAME]\n",
    "\n",
    "list_of_records_user_defined_id = [\n",
    "    {'_id': '4',\n",
    "    'collegeName': 'Pondicherry University',\n",
    "    'Faculty': 'BKT'},\n",
    "    {'_id': '5',\n",
    "    'collegeName': 'Pondicherry University',\n",
    "    'Faculty': 'RAMOUTHA'},\n",
    "]\n",
    "\n",
    "faculties_record = faculties.insert_many(list_of_records_user_defined_id)"
   ]
  },
  {
   "cell_type": "markdown",
   "metadata": {},
   "source": [
    "refresh the Compass tool and you'll see a fresh collection is created by name iNeuron_Faculties\n",
    "and this time _id is defined by us. Refer the highlighted portion of the image below:- \n",
    "    \n",
    "> ![unique_id](mongo_img/compass/c9.JPG)\n",
    "\n",
    "> **NOTE**: Make sure the \\_id of the records that you insert are unique other wise you'll get a _BulkWriteError_ which comes because of duplicate key"
   ]
  },
  {
   "cell_type": "markdown",
   "metadata": {},
   "source": [
    "### STEP 5: Find method in MongoDB"
   ]
  },
  {
   "cell_type": "code",
   "execution_count": 54,
   "metadata": {},
   "outputs": [
    {
     "name": "stdout",
     "output_type": "stream",
     "text": [
      "The first record of collection: \n",
      "PU_Faculties is=\n",
      "{'_id': '3', 'collegeName': 'Pondicherry University', 'Faculty': 'Kumar'}\n"
     ]
    }
   ],
   "source": [
    "find_first_record = faculties.find_one()\n",
    "\n",
    "print(f\"The first record of collection: \\n{COLLECTION_NAME} is=\\\n",
    "\\n{find_first_record}\")"
   ]
  },
  {
   "cell_type": "code",
   "execution_count": 55,
   "metadata": {},
   "outputs": [
    {
     "name": "stdout",
     "output_type": "stream",
     "text": [
      "0: {'_id': '3', 'collegeName': 'Pondicherry University', 'Faculty': 'Kumar'}\n",
      "1: {'_id': '2', 'collegeName': 'Pondicherry University', 'Faculty': 'SURESH'}\n",
      "2: {'_id': '1', 'collegeName': 'Pondicherry University', 'Faculty': 'Kumar'}\n",
      "3: {'_id': '4', 'collegeName': 'Pondicherry University', 'Faculty': 'BKT'}\n",
      "4: {'_id': '5', 'collegeName': 'Pondicherry University', 'Faculty': 'RAMOUTHA'}\n"
     ]
    }
   ],
   "source": [
    "# find all the record at once present in thr record with all the fields\n",
    "all_record = faculties.find()\n",
    "\n",
    "for idx, record in enumerate(all_record):\n",
    "    print(f\"{idx}: {record}\")"
   ]
  },
  {
   "cell_type": "code",
   "execution_count": 56,
   "metadata": {},
   "outputs": [
    {
     "name": "stdout",
     "output_type": "stream",
     "text": [
      "0: {'_id': '3', 'Faculty': 'Kumar'}\n",
      "1: {'_id': '2', 'Faculty': 'SURESH'}\n",
      "2: {'_id': '1', 'Faculty': 'Kumar'}\n",
      "3: {'_id': '4', 'Faculty': 'BKT'}\n",
      "4: {'_id': '5', 'Faculty': 'RAMOUTHA'}\n"
     ]
    }
   ],
   "source": [
    "# find all the record at once present in the record with SPECIFIC fields\n",
    "all_record = faculties.find({}, {\"Faculty\"})\n",
    "\n",
    "for idx, record in enumerate(all_record):\n",
    "    print(f\"{idx}: {record}\")"
   ]
  },
  {
   "cell_type": "markdown",
   "metadata": {},
   "source": [
    "### STEP 6: Query or filter out data in MongoDB"
   ]
  },
  {
   "cell_type": "code",
   "execution_count": 57,
   "metadata": {},
   "outputs": [
    {
     "name": "stdout",
     "output_type": "stream",
     "text": [
      "{'_id': '1', 'collegeName': 'Pondicherry University', 'Faculty': 'Kumar'}\n"
     ]
    }
   ],
   "source": [
    "query1 = {\"_id\": '1'}\n",
    "\n",
    "results = faculties.find(query1)\n",
    "for data in results:\n",
    "    print(data)"
   ]
  },
  {
   "cell_type": "code",
   "execution_count": 58,
   "metadata": {},
   "outputs": [
    {
     "name": "stdout",
     "output_type": "stream",
     "text": [
      "{'_id': '2', 'collegeName': 'Pondicherry University', 'Faculty': 'SURESH'}\n",
      "{'_id': '3', 'collegeName': 'Pondicherry University', 'Faculty': 'Kumar'}\n",
      "{'_id': '4', 'collegeName': 'Pondicherry University', 'Faculty': 'BKT'}\n",
      "{'_id': '5', 'collegeName': 'Pondicherry University', 'Faculty': 'RAMOUTHA'}\n"
     ]
    }
   ],
   "source": [
    "query2 = {\"_id\": {\"$gt\": \"1\"}}\n",
    "\n",
    "results = faculties.find(query2)\n",
    "for data in results:\n",
    "    print(data)"
   ]
  },
  {
   "cell_type": "markdown",
   "metadata": {},
   "source": [
    "### STEP 7: Delete one or many documents in MongoDB"
   ]
  },
  {
   "cell_type": "code",
   "execution_count": 60,
   "metadata": {},
   "outputs": [
    {
     "data": {
      "text/plain": [
       "<pymongo.results.InsertManyResult at 0x1f55675f6a0>"
      ]
     },
     "execution_count": 60,
     "metadata": {},
     "output_type": "execute_result"
    }
   ],
   "source": [
    "# Lets add some random data in faculties\n",
    "random_data = [\n",
    "    {'_id': '6', 'collegeName': 'Pondicherry University', 'Faculty': 'VAmouda'},\n",
    "    {'_id': '7', 'collegeName': 'Pondicherry University', 'Faculty': 'Dinkara'},\n",
    "    {'_id': '8', 'collegeName': 'Pondicherry University', 'Faculty': 'PTV'},\n",
    "    {'_id': '9', 'collegeName': 'Pondicherry University', 'Faculty': 'Krishna'},\n",
    "]\n",
    "\n",
    "faculties.insert_many(random_data)"
   ]
  },
  {
   "cell_type": "code",
   "execution_count": 61,
   "metadata": {},
   "outputs": [
    {
     "data": {
      "text/plain": [
       "<pymongo.results.DeleteResult at 0x1f558304c50>"
      ]
     },
     "execution_count": 61,
     "metadata": {},
     "output_type": "execute_result"
    }
   ],
   "source": [
    "# Lets delete one document in faculties\n",
    "query_to_delete = {\"Faculty\": \"PTV\"}\n",
    "\n",
    "faculties.delete_one(query_to_delete)"
   ]
  },
  {
   "cell_type": "code",
   "execution_count": 62,
   "metadata": {},
   "outputs": [
    {
     "data": {
      "text/plain": [
       "<pymongo.results.DeleteResult at 0x1f5583495f8>"
      ]
     },
     "execution_count": 62,
     "metadata": {},
     "output_type": "execute_result"
    }
   ],
   "source": [
    "# lets delete multiple record\n",
    "multi_query_to_delete = {\"_id\": {\"$gte\": \"4\"}}\n",
    "\n",
    "faculties.delete_many(multi_query_to_delete)"
   ]
  },
  {
   "cell_type": "markdown",
   "metadata": {},
   "source": [
    "> **NOTE**: In order to delete all the documents present in the collection you can just pass and empty dictionary as shown below: -\n",
    "```python\n",
    "faculties.delete_many({})\n",
    "```"
   ]
  },
  {
   "cell_type": "markdown",
   "metadata": {},
   "source": [
    "### STEP 8: Drop the entire collection"
   ]
  },
  {
   "cell_type": "code",
   "execution_count": 41,
   "metadata": {},
   "outputs": [],
   "source": [
    "faculties.drop()"
   ]
  },
  {
   "cell_type": "code",
   "execution_count": 63,
   "metadata": {},
   "outputs": [
    {
     "name": "stdout",
     "output_type": "stream",
     "text": [
      "Collection:'PU_Faculties' in Database:'Jyotika_1' exists\n"
     ]
    }
   ],
   "source": [
    "# Lets verify if the collection exists or not after dropping it\n",
    "COLLECTION_NAME = \"PU_Faculties\"\n",
    "DB_NAME = \"Jyotika_1\"\n",
    "_ = checkExistence_COL(COLLECTION_NAME=COLLECTION_NAME, DB_NAME=DB_NAME, db=dataBase)"
   ]
  },
  {
   "cell_type": "markdown",
   "metadata": {},
   "source": [
    "### STEP 9: Update"
   ]
  },
  {
   "cell_type": "code",
   "execution_count": 64,
   "metadata": {},
   "outputs": [
    {
     "name": "stdout",
     "output_type": "stream",
     "text": [
      "{'_id': ObjectId('63dde8892a5d53ee203b71b2'), 'collegeName': 'Pondicherry University', 'course': 'M.Tech CB', 'session': '2021-2023', 'Registration_no': 'xyz'}\n",
      "\n",
      "{'_id': ObjectId('63ddeae52a5d53ee203b71b3'), 'collegeName': 'Bundelkhand University', 'course': 'B.Tech Biotechnology', 'year': '2017-2021'}\n",
      "\n",
      "{'_id': ObjectId('63ddeae52a5d53ee203b71b4'), 'collegeName': 'Kendriya Vidyalaya', 'course': 'higher and senior secondary', 'year': '2013 and 2015'}\n",
      "\n",
      "{'_id': ObjectId('63ddeae52a5d53ee203b71b5'), 'companyName': 'iNeuron', 'product': 'Master Program', 'course': 'Data Science Masters Program'}\n",
      "\n",
      "{'_id': ObjectId('63ddeaf62a5d53ee203b71b6'), 'collegeName': 'Bundelkhand University', 'course': 'B.Tech Biotechnology', 'year': '2017-2021'}\n",
      "\n",
      "{'_id': ObjectId('63ddeaf62a5d53ee203b71b7'), 'collegeName': 'Kendriya Vidyalaya', 'course': 'higher and senior secondary', 'year': '2013 and 2015'}\n",
      "\n",
      "{'_id': ObjectId('63ddeaf62a5d53ee203b71b8'), 'companyName': 'iNeuron', 'product': 'Master Program', 'course': 'Data Science Masters Program'}\n",
      "\n",
      "{'_id': ObjectId('63ddf44c2a5d53ee203b71b9'), 'collegeName': 'Bundelkhand University', 'course': 'B.Tech Biotechnology', 'year': '2017-2021'}\n",
      "\n",
      "{'_id': ObjectId('63ddf44c2a5d53ee203b71ba'), 'collegeName': 'Kendriya Vidyalaya', 'course': 'higher and senior secondary', 'year': '2013 and 2015'}\n",
      "\n",
      "{'_id': ObjectId('63ddf44c2a5d53ee203b71bb'), 'companyName': 'iNeuron', 'product': 'Master Program', 'course': 'Data Science Masters Program'}\n",
      "\n"
     ]
    }
   ],
   "source": [
    "COLLECTION_NAME = \"Jyotika_details_update\"\n",
    "\n",
    "details = dataBase[COLLECTION_NAME]\n",
    "\n",
    "all_record = details.find()\n",
    "\n",
    "for idx, record in enumerate(all_record):\n",
    "    print(f\"{record}\\n\")"
   ]
  },
  {
   "cell_type": "code",
   "execution_count": 65,
   "metadata": {},
   "outputs": [],
   "source": [
    "present_data = {'course': 'B.Tech Biotechnology'}\n",
    "new_data = {\"$set\":{'course': 'ML and DL with Deployment'}}"
   ]
  },
  {
   "cell_type": "code",
   "execution_count": 68,
   "metadata": {},
   "outputs": [
    {
     "data": {
      "text/plain": [
       "<pymongo.results.UpdateResult at 0x1f5582279b0>"
      ]
     },
     "execution_count": 68,
     "metadata": {},
     "output_type": "execute_result"
    }
   ],
   "source": [
    "details.update_one(present_data, new_data)"
   ]
  },
  {
   "cell_type": "code",
   "execution_count": 69,
   "metadata": {},
   "outputs": [
    {
     "name": "stdout",
     "output_type": "stream",
     "text": [
      "{'_id': ObjectId('63dde8892a5d53ee203b71b2'), 'collegeName': 'Pondicherry University', 'course': 'M.Tech CB', 'session': '2021-2023', 'Registration_no': 'xyz'}\n",
      "\n",
      "{'_id': ObjectId('63ddeae52a5d53ee203b71b3'), 'collegeName': 'Bundelkhand University', 'course': 'ML and DL with Deployment', 'year': '2017-2021'}\n",
      "\n",
      "{'_id': ObjectId('63ddeae52a5d53ee203b71b4'), 'collegeName': 'Kendriya Vidyalaya', 'course': 'higher and senior secondary', 'year': '2013 and 2015'}\n",
      "\n",
      "{'_id': ObjectId('63ddeae52a5d53ee203b71b5'), 'companyName': 'iNeuron', 'product': 'Master Program', 'course': 'Data Science Masters Program'}\n",
      "\n",
      "{'_id': ObjectId('63ddeaf62a5d53ee203b71b6'), 'collegeName': 'Bundelkhand University', 'course': 'B.Tech Biotechnology', 'year': '2017-2021'}\n",
      "\n",
      "{'_id': ObjectId('63ddeaf62a5d53ee203b71b7'), 'collegeName': 'Kendriya Vidyalaya', 'course': 'higher and senior secondary', 'year': '2013 and 2015'}\n",
      "\n",
      "{'_id': ObjectId('63ddeaf62a5d53ee203b71b8'), 'companyName': 'iNeuron', 'product': 'Master Program', 'course': 'Data Science Masters Program'}\n",
      "\n",
      "{'_id': ObjectId('63ddf44c2a5d53ee203b71b9'), 'collegeName': 'Bundelkhand University', 'course': 'B.Tech Biotechnology', 'year': '2017-2021'}\n",
      "\n",
      "{'_id': ObjectId('63ddf44c2a5d53ee203b71ba'), 'collegeName': 'Kendriya Vidyalaya', 'course': 'higher and senior secondary', 'year': '2013 and 2015'}\n",
      "\n",
      "{'_id': ObjectId('63ddf44c2a5d53ee203b71bb'), 'companyName': 'iNeuron', 'product': 'Master Program', 'course': 'Data Science Masters Program'}\n",
      "\n"
     ]
    }
   ],
   "source": [
    "all_record = details.find()\n",
    "\n",
    "for idx, record in enumerate(all_record):\n",
    "    print(f\"{record}\\n\")"
   ]
  },
  {
   "cell_type": "code",
   "execution_count": 70,
   "metadata": {},
   "outputs": [],
   "source": [
    "present_data = {'companyName': 'iNeuron'}\n",
    "new_data = {\"$set\": {'companyName': 'iNeuron.ai'}}"
   ]
  },
  {
   "cell_type": "code",
   "execution_count": 64,
   "metadata": {},
   "outputs": [
    {
     "name": "stdout",
     "output_type": "stream",
     "text": [
      "{'_id': ObjectId('5f38c5fc01c6e385a178b671'), 'companyName': 'iNeuron.ai', 'product': 'Affordable AI', 'courseOffered': 'Deep Learning for Computer Vision'}\n",
      "\n",
      "{'_id': ObjectId('5f38c60e01c6e385a178b672'), 'companyName': 'iNeuron.ai', 'product': 'Affordable AI', 'courseOffered': 'ML and DL with Deployment'}\n",
      "\n",
      "{'_id': ObjectId('5f38c60e01c6e385a178b673'), 'companyName': 'iNeuron.ai', 'product': 'Affordable AI', 'courseOffered': 'Deep Learning for NLP and Computer vision'}\n",
      "\n",
      "{'_id': ObjectId('5f38c60e01c6e385a178b674'), 'companyName': 'iNeuron.ai', 'product': 'Master Program', 'courseOffered': 'Data Science Masters Program'}\n",
      "\n"
     ]
    }
   ],
   "source": [
    "products.update_many(present_data, new_data)\n",
    "\n",
    "all_record = products.find()\n",
    "\n",
    "for idx, record in enumerate(all_record):\n",
    "    print(f\"{record}\\n\")"
   ]
  },
  {
   "cell_type": "markdown",
   "metadata": {},
   "source": [
    "### STEP 9: Set limit to view N records"
   ]
  },
  {
   "cell_type": "code",
   "execution_count": 71,
   "metadata": {},
   "outputs": [
    {
     "name": "stdout",
     "output_type": "stream",
     "text": [
      "{'_id': ObjectId('63dde8892a5d53ee203b71b2'), 'collegeName': 'Pondicherry University', 'course': 'M.Tech CB', 'session': '2021-2023', 'Registration_no': 'xyz'}\n",
      "\n",
      "{'_id': ObjectId('63ddeae52a5d53ee203b71b3'), 'collegeName': 'Bundelkhand University', 'course': 'ML and DL with Deployment', 'year': '2017-2021'}\n",
      "\n",
      "{'_id': ObjectId('63ddeae52a5d53ee203b71b4'), 'collegeName': 'Kendriya Vidyalaya', 'course': 'higher and senior secondary', 'year': '2013 and 2015'}\n",
      "\n"
     ]
    }
   ],
   "source": [
    "N_records = 3\n",
    "\n",
    "N_record = details.find().limit(N_records)\n",
    "\n",
    "for idx, record in enumerate(N_record):\n",
    "    print(f\"{record}\\n\")"
   ]
  },
  {
   "cell_type": "code",
   "execution_count": null,
   "metadata": {},
   "outputs": [],
   "source": []
  }
 ],
 "metadata": {
  "kernelspec": {
   "display_name": "Python 3",
   "language": "python",
   "name": "python3"
  },
  "language_info": {
   "codemirror_mode": {
    "name": "ipython",
    "version": 3
   },
   "file_extension": ".py",
   "mimetype": "text/x-python",
   "name": "python",
   "nbconvert_exporter": "python",
   "pygments_lexer": "ipython3",
   "version": "3.7.1"
  }
 },
 "nbformat": 4,
 "nbformat_minor": 4
}
